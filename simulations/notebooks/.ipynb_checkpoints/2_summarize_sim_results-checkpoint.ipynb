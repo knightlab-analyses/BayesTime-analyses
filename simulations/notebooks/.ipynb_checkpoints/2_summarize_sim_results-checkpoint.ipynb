{
 "cells": [
  {
   "cell_type": "code",
   "execution_count": 1,
   "metadata": {},
   "outputs": [],
   "source": [
    "dir='../../../../github-bayestime-analysis'\n",
    "nsims = 100\n",
    "load(paste0(dir, \"/summary_results/simulation_results_quantiles_nsims_\", nsims, \".RData\"))"
   ]
  },
  {
   "cell_type": "code",
   "execution_count": 2,
   "metadata": {},
   "outputs": [
    {
     "data": {
      "text/html": [
       "<table>\n",
       "<caption>A matrix: 4 × 4 of type chr</caption>\n",
       "<thead>\n",
       "\t<tr><th></th><th scope=col>N100</th><th scope=col>N50</th><th scope=col>N25</th><th scope=col>N10</th></tr>\n",
       "</thead>\n",
       "<tbody>\n",
       "\t<tr><th scope=row>MU_M0</th><td>0.008 (0, 0.029)</td><td>0.015 (0, 0.066)   </td><td>0.031 (0, 0.173)    </td><td>0.044 (0.002, 0.188)</td></tr>\n",
       "\t<tr><th scope=row>MU_M20</th><td>0.008 (0, 0.034)</td><td>0.01 (0, 0.052)    </td><td>0.021 (0.001, 0.088)</td><td>0.04 (0.001, 0.138) </td></tr>\n",
       "\t<tr><th scope=row>MU_M50</th><td>0.008 (0, 0.034)</td><td>0.011 (0, 0.053)   </td><td>0.021 (0.001, 0.082)</td><td>0.041 (0.001, 0.154)</td></tr>\n",
       "\t<tr><th scope=row>MU_M80</th><td>0.007 (0, 0.025)</td><td>0.013 (0.001, 0.08)</td><td>0.026 (0.001, 0.105)</td><td>0.069 (0.009, 0.223)</td></tr>\n",
       "</tbody>\n",
       "</table>\n"
      ],
      "text/latex": [
       "A matrix: 4 × 4 of type chr\n",
       "\\begin{tabular}{r|llll}\n",
       "  & N100 & N50 & N25 & N10\\\\\n",
       "\\hline\n",
       "\tMU\\_M0 & 0.008 (0, 0.029) & 0.015 (0, 0.066)    & 0.031 (0, 0.173)     & 0.044 (0.002, 0.188)\\\\\n",
       "\tMU\\_M20 & 0.008 (0, 0.034) & 0.01 (0, 0.052)     & 0.021 (0.001, 0.088) & 0.04 (0.001, 0.138) \\\\\n",
       "\tMU\\_M50 & 0.008 (0, 0.034) & 0.011 (0, 0.053)    & 0.021 (0.001, 0.082) & 0.041 (0.001, 0.154)\\\\\n",
       "\tMU\\_M80 & 0.007 (0, 0.025) & 0.013 (0.001, 0.08) & 0.026 (0.001, 0.105) & 0.069 (0.009, 0.223)\\\\\n",
       "\\end{tabular}\n"
      ],
      "text/markdown": [
       "\n",
       "A matrix: 4 × 4 of type chr\n",
       "\n",
       "| <!--/--> | N100 | N50 | N25 | N10 |\n",
       "|---|---|---|---|---|\n",
       "| MU_M0 | 0.008 (0, 0.029) | 0.015 (0, 0.066)    | 0.031 (0, 0.173)     | 0.044 (0.002, 0.188) |\n",
       "| MU_M20 | 0.008 (0, 0.034) | 0.01 (0, 0.052)     | 0.021 (0.001, 0.088) | 0.04 (0.001, 0.138)  |\n",
       "| MU_M50 | 0.008 (0, 0.034) | 0.011 (0, 0.053)    | 0.021 (0.001, 0.082) | 0.041 (0.001, 0.154) |\n",
       "| MU_M80 | 0.007 (0, 0.025) | 0.013 (0.001, 0.08) | 0.026 (0.001, 0.105) | 0.069 (0.009, 0.223) |\n",
       "\n"
      ],
      "text/plain": [
       "       N100             N50                 N25                 \n",
       "MU_M0  0.008 (0, 0.029) 0.015 (0, 0.066)    0.031 (0, 0.173)    \n",
       "MU_M20 0.008 (0, 0.034) 0.01 (0, 0.052)     0.021 (0.001, 0.088)\n",
       "MU_M50 0.008 (0, 0.034) 0.011 (0, 0.053)    0.021 (0.001, 0.082)\n",
       "MU_M80 0.007 (0, 0.025) 0.013 (0.001, 0.08) 0.026 (0.001, 0.105)\n",
       "       N10                 \n",
       "MU_M0  0.044 (0.002, 0.188)\n",
       "MU_M20 0.04 (0.001, 0.138) \n",
       "MU_M50 0.041 (0.001, 0.154)\n",
       "MU_M80 0.069 (0.009, 0.223)"
      ]
     },
     "metadata": {},
     "output_type": "display_data"
    }
   ],
   "source": [
    "table_results_MU\n",
    "\n",
    "# as sample size decreases, error increases (within CIs)\n",
    "# as missing increases, error still similar"
   ]
  },
  {
   "cell_type": "code",
   "execution_count": 3,
   "metadata": {},
   "outputs": [
    {
     "data": {
      "text/html": [
       "<table>\n",
       "<caption>A matrix: 4 × 4 of type chr</caption>\n",
       "<thead>\n",
       "\t<tr><th></th><th scope=col>N100</th><th scope=col>N50</th><th scope=col>N25</th><th scope=col>N10</th></tr>\n",
       "</thead>\n",
       "<tbody>\n",
       "\t<tr><th scope=row>THETA_M0</th><td>0.002 (0.001, 0.01) </td><td>0.011 (0.001, 0.116)</td><td>0.02 (0.001, 0.143) </td><td>0.049 (0.003, 0.21) </td></tr>\n",
       "\t<tr><th scope=row>THETA_M20</th><td>0.002 (0.001, 0.005)</td><td>0.005 (0.001, 0.03) </td><td>0.018 (0.001, 0.157)</td><td>0.05 (0.003, 0.208) </td></tr>\n",
       "\t<tr><th scope=row>THETA_M50</th><td>0.002 (0.001, 0.005)</td><td>0.005 (0.001, 0.026)</td><td>0.02 (0.001, 0.162) </td><td>0.054 (0.003, 0.203)</td></tr>\n",
       "\t<tr><th scope=row>THETA_M80</th><td>0.004 (0.001, 0.016)</td><td>0.01 (0.001, 0.079) </td><td>0.027 (0.002, 0.208)</td><td>0.081 (0.017, 0.246)</td></tr>\n",
       "</tbody>\n",
       "</table>\n"
      ],
      "text/latex": [
       "A matrix: 4 × 4 of type chr\n",
       "\\begin{tabular}{r|llll}\n",
       "  & N100 & N50 & N25 & N10\\\\\n",
       "\\hline\n",
       "\tTHETA\\_M0 & 0.002 (0.001, 0.01)  & 0.011 (0.001, 0.116) & 0.02 (0.001, 0.143)  & 0.049 (0.003, 0.21) \\\\\n",
       "\tTHETA\\_M20 & 0.002 (0.001, 0.005) & 0.005 (0.001, 0.03)  & 0.018 (0.001, 0.157) & 0.05 (0.003, 0.208) \\\\\n",
       "\tTHETA\\_M50 & 0.002 (0.001, 0.005) & 0.005 (0.001, 0.026) & 0.02 (0.001, 0.162)  & 0.054 (0.003, 0.203)\\\\\n",
       "\tTHETA\\_M80 & 0.004 (0.001, 0.016) & 0.01 (0.001, 0.079)  & 0.027 (0.002, 0.208) & 0.081 (0.017, 0.246)\\\\\n",
       "\\end{tabular}\n"
      ],
      "text/markdown": [
       "\n",
       "A matrix: 4 × 4 of type chr\n",
       "\n",
       "| <!--/--> | N100 | N50 | N25 | N10 |\n",
       "|---|---|---|---|---|\n",
       "| THETA_M0 | 0.002 (0.001, 0.01)  | 0.011 (0.001, 0.116) | 0.02 (0.001, 0.143)  | 0.049 (0.003, 0.21)  |\n",
       "| THETA_M20 | 0.002 (0.001, 0.005) | 0.005 (0.001, 0.03)  | 0.018 (0.001, 0.157) | 0.05 (0.003, 0.208)  |\n",
       "| THETA_M50 | 0.002 (0.001, 0.005) | 0.005 (0.001, 0.026) | 0.02 (0.001, 0.162)  | 0.054 (0.003, 0.203) |\n",
       "| THETA_M80 | 0.004 (0.001, 0.016) | 0.01 (0.001, 0.079)  | 0.027 (0.002, 0.208) | 0.081 (0.017, 0.246) |\n",
       "\n"
      ],
      "text/plain": [
       "          N100                 N50                  N25                 \n",
       "THETA_M0  0.002 (0.001, 0.01)  0.011 (0.001, 0.116) 0.02 (0.001, 0.143) \n",
       "THETA_M20 0.002 (0.001, 0.005) 0.005 (0.001, 0.03)  0.018 (0.001, 0.157)\n",
       "THETA_M50 0.002 (0.001, 0.005) 0.005 (0.001, 0.026) 0.02 (0.001, 0.162) \n",
       "THETA_M80 0.004 (0.001, 0.016) 0.01 (0.001, 0.079)  0.027 (0.002, 0.208)\n",
       "          N10                 \n",
       "THETA_M0  0.049 (0.003, 0.21) \n",
       "THETA_M20 0.05 (0.003, 0.208) \n",
       "THETA_M50 0.054 (0.003, 0.203)\n",
       "THETA_M80 0.081 (0.017, 0.246)"
      ]
     },
     "metadata": {},
     "output_type": "display_data"
    }
   ],
   "source": [
    "table_results_THETA\n",
    "\n",
    "# as sample size decreases, error increases (within CIs)\n",
    "# as missing increases, error in general increases (within CIs, except N10_M80)"
   ]
  },
  {
   "cell_type": "code",
   "execution_count": null,
   "metadata": {},
   "outputs": [],
   "source": []
  }
 ],
 "metadata": {
  "kernelspec": {
   "display_name": "R",
   "language": "R",
   "name": "ir"
  },
  "language_info": {
   "codemirror_mode": "r",
   "file_extension": ".r",
   "mimetype": "text/x-r-source",
   "name": "R",
   "pygments_lexer": "r",
   "version": "4.0.2"
  }
 },
 "nbformat": 4,
 "nbformat_minor": 2
}
